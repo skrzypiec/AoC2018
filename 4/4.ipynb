{
 "cells": [
  {
   "cell_type": "code",
   "execution_count": 1,
   "metadata": {
    "collapsed": true
   },
   "outputs": [],
   "source": [
    "import re\n",
    "\n",
    "filename = 'input.txt'\n",
    "\n",
    "with open(filename) as f:\n",
    "    data = f.read()"
   ]
  },
  {
   "cell_type": "code",
   "execution_count": 2,
   "metadata": {
    "collapsed": true
   },
   "outputs": [],
   "source": [
    "def process_data(records):\n",
    "    guard_data = {}\n",
    "    guard_cur = None\n",
    "    rec_mins = falls_asleep = wakes_up = 0\n",
    "    \n",
    "    for rec in records:\n",
    "        if \"begins shift\" in rec:\n",
    "            guard_cur = re.search('Guard #([0-9]+)', rec).group(1)\n",
    "            if guard_cur not in guard_data:\n",
    "                guard_data[guard_cur] = {\n",
    "                    'asleep_min_tally': {},\n",
    "                    'asleep_total': 0,\n",
    "                    'most_asleep_min': None\n",
    "                }\n",
    "            \n",
    "        elif \"falls asleep\" in rec:\n",
    "            falls_asleep = re.search('00:([0-9][0-9])\\]', rec).group(1)\n",
    "            \n",
    "        elif \"wakes up\" in rec:\n",
    "            wakes_up = re.search('00:([0-9][0-9])\\]', rec).group(1)\n",
    "            rec_mins = int(wakes_up) - int(falls_asleep)\n",
    "            guard_data[guard_cur]['asleep_total'] += rec_mins\n",
    "            for i in range(int(falls_asleep), int(wakes_up)):\n",
    "                if i not in guard_data[guard_cur]['asleep_min_tally']:\n",
    "                    guard_data[guard_cur]['asleep_min_tally'][i] = 0\n",
    "                guard_data[guard_cur]['asleep_min_tally'][i] += 1\n",
    "                if not guard_data[guard_cur]['most_asleep_min']:\n",
    "                    guard_data[guard_cur]['most_asleep_min'] = i\n",
    "                elif guard_data[guard_cur]['asleep_min_tally'][i] > guard_data[guard_cur]['asleep_min_tally'][guard_data[guard_cur]['most_asleep_min']]:\n",
    "                    guard_data[guard_cur]['most_asleep_min'] = i\n",
    "    \n",
    "    return guard_data"
   ]
  },
  {
   "cell_type": "markdown",
   "metadata": {},
   "source": [
    "# 1"
   ]
  },
  {
   "cell_type": "code",
   "execution_count": 3,
   "metadata": {
    "collapsed": true
   },
   "outputs": [],
   "source": [
    "def ans1(records):\n",
    "    records = sorted(records.splitlines())\n",
    "    guard_data = process_data(records)\n",
    "    \n",
    "    guard = minute = 0\n",
    "    guard = max([(int(guard_data[x]['asleep_total']), x) for x in guard_data])[1]\n",
    "    minute = guard_data[guard]['most_asleep_min']\n",
    "    answer = int(guard) * int(minute)\n",
    "    print('Answer 1: Guard ID * Minute: {}'.format(answer))"
   ]
  },
  {
   "cell_type": "code",
   "execution_count": 4,
   "metadata": {},
   "outputs": [
    {
     "name": "stdout",
     "output_type": "stream",
     "text": [
      "Answer 1: Guard ID * Minute: 48680\n"
     ]
    }
   ],
   "source": [
    "ans1(data)"
   ]
  },
  {
   "cell_type": "markdown",
   "metadata": {},
   "source": [
    "# 2"
   ]
  },
  {
   "cell_type": "code",
   "execution_count": 5,
   "metadata": {
    "collapsed": true
   },
   "outputs": [],
   "source": [
    "def ans2(records):\n",
    "    records = sorted(records.splitlines())\n",
    "    guard_data = process_data(records)\n",
    "    minutes = [ ( int(guard_data[x]['asleep_min_tally'].get(i, 0)), x, str(i) )\n",
    "        for x in guard_data for i in range(60) ]\n",
    "    \n",
    "    guard = minute = 0\n",
    "    guard = max(minutes)[1]\n",
    "    minute = max(minutes)[2]\n",
    "    answer = int(guard) * int(minute)\n",
    "    print('Answer 2: Guard ID * Minute: {}'.format(answer))"
   ]
  },
  {
   "cell_type": "code",
   "execution_count": 6,
   "metadata": {},
   "outputs": [
    {
     "name": "stdout",
     "output_type": "stream",
     "text": [
      "Answer 2: Guard ID * Minute: 94826\n"
     ]
    }
   ],
   "source": [
    "ans2(data)"
   ]
  }
 ],
 "metadata": {
  "kernelspec": {
   "display_name": "Python 3",
   "language": "python",
   "name": "python3"
  },
  "language_info": {
   "codemirror_mode": {
    "name": "ipython",
    "version": 3
   },
   "file_extension": ".py",
   "mimetype": "text/x-python",
   "name": "python",
   "nbconvert_exporter": "python",
   "pygments_lexer": "ipython3",
   "version": "3.6.6"
  }
 },
 "nbformat": 4,
 "nbformat_minor": 2
}
