{
 "cells": [
  {
   "cell_type": "code",
   "execution_count": 1,
   "metadata": {
    "collapsed": true
   },
   "outputs": [],
   "source": [
    "import numpy as np\n",
    "\n",
    "filename = 'input.txt'\n",
    "\n",
    "with open(filename) as f:\n",
    "    data = f.readlines()\n",
    "    \n",
    "ids = [i.strip().replace(\":\", \",\").replace(\"x\",\",\").replace(\" \",\"\") for i in data]\n",
    "\n",
    "ids_ = [i[i.index('@')+1:].split(\",\") for i in ids]"
   ]
  },
  {
   "cell_type": "markdown",
   "metadata": {},
   "source": [
    "# 1"
   ]
  },
  {
   "cell_type": "code",
   "execution_count": 2,
   "metadata": {},
   "outputs": [
    {
     "name": "stdout",
     "output_type": "stream",
     "text": [
      "Answer:  107663\n"
     ]
    }
   ],
   "source": [
    "fabric = np.array(1000*[1000*[0]])\n",
    "\n",
    "for i in ids_:\n",
    "    x = int(i[0])\n",
    "    y = int(i[1])\n",
    "    a = int(i[2])\n",
    "    b = int(i[3])\n",
    "\n",
    "    for i in range(0,a):\n",
    "        for j in range(0,b):\n",
    "            fabric[y+j][x+i] += 1\n",
    "            \n",
    "print(\"Answer: \", len(fabric[fabric>1]))"
   ]
  },
  {
   "cell_type": "markdown",
   "metadata": {},
   "source": [
    "# 2"
   ]
  },
  {
   "cell_type": "code",
   "execution_count": 3,
   "metadata": {},
   "outputs": [
    {
     "name": "stdout",
     "output_type": "stream",
     "text": [
      "Eureca:  1166\n"
     ]
    }
   ],
   "source": [
    "for en, i in enumerate(ids_):\n",
    "    x = int(i[0])\n",
    "    y = int(i[1])\n",
    "    a = int(i[2])\n",
    "    b = int(i[3])\n",
    "    square = 0\n",
    "    for i in range(0,a):\n",
    "        for j in range(0,b):\n",
    "            if (fabric[y+j][x+i] == 1):\n",
    "                square += 1\n",
    "    \n",
    "    if(square == a*b):\n",
    "        print(\"Eureca: \", en+1)"
   ]
  }
 ],
 "metadata": {
  "kernelspec": {
   "display_name": "Python 3",
   "language": "python",
   "name": "python3"
  },
  "language_info": {
   "codemirror_mode": {
    "name": "ipython",
    "version": 3
   },
   "file_extension": ".py",
   "mimetype": "text/x-python",
   "name": "python",
   "nbconvert_exporter": "python",
   "pygments_lexer": "ipython3",
   "version": "3.6.6"
  }
 },
 "nbformat": 4,
 "nbformat_minor": 2
}
