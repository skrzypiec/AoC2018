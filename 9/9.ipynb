{
 "cells": [
  {
   "cell_type": "code",
   "execution_count": 1,
   "metadata": {},
   "outputs": [],
   "source": [
    "import numpy as np\n",
    "from collections import deque, defaultdict\n",
    "\n",
    "filename = 'input.txt'\n",
    "\n",
    "with open(filename) as f:\n",
    "    data = f.readlines()"
   ]
  },
  {
   "cell_type": "code",
   "execution_count": 2,
   "metadata": {},
   "outputs": [
    {
     "data": {
      "text/plain": [
       "['438 players; last marble is worth 71626 points\\n']"
      ]
     },
     "execution_count": 2,
     "metadata": {},
     "output_type": "execute_result"
    }
   ],
   "source": [
    "data"
   ]
  },
  {
   "cell_type": "code",
   "execution_count": 8,
   "metadata": {},
   "outputs": [],
   "source": [
    "players = 438\n",
    "last_marble_value = 71626"
   ]
  },
  {
   "cell_type": "code",
   "execution_count": 5,
   "metadata": {},
   "outputs": [],
   "source": [
    "def play_game(max_players, last_marble):\n",
    "    scores = defaultdict(int)\n",
    "    circle = deque([0])\n",
    "\n",
    "    for marble in range(1, last_marble + 1):\n",
    "        if marble % 23 == 0:\n",
    "            circle.rotate(7)\n",
    "            scores[marble % max_players] += marble + circle.pop()\n",
    "            circle.rotate(-1)\n",
    "        else:\n",
    "            circle.rotate(-1)\n",
    "            circle.append(marble)\n",
    "    \n",
    "        #print(circle)\n",
    "    #print(scores)\n",
    "    \n",
    "    return max(scores.values()) if scores else 0"
   ]
  },
  {
   "cell_type": "code",
   "execution_count": 11,
   "metadata": {},
   "outputs": [
    {
     "name": "stdout",
     "output_type": "stream",
     "text": [
      "Result: 398730\n"
     ]
    }
   ],
   "source": [
    "print(\"Result: %s\"%play_game(players,last_marble_value))"
   ]
  },
  {
   "cell_type": "code",
   "execution_count": 12,
   "metadata": {},
   "outputs": [
    {
     "name": "stdout",
     "output_type": "stream",
     "text": [
      "Result: 3349635509\n"
     ]
    }
   ],
   "source": [
    "print(\"Result: %s\"%play_game(players,100*last_marble_value))"
   ]
  }
 ],
 "metadata": {
  "kernelspec": {
   "display_name": "Python 3",
   "language": "python",
   "name": "python3"
  },
  "language_info": {
   "codemirror_mode": {
    "name": "ipython",
    "version": 3
   },
   "file_extension": ".py",
   "mimetype": "text/x-python",
   "name": "python",
   "nbconvert_exporter": "python",
   "pygments_lexer": "ipython3",
   "version": "3.7.1"
  }
 },
 "nbformat": 4,
 "nbformat_minor": 2
}
