{
 "cells": [
  {
   "cell_type": "code",
   "execution_count": 1,
   "metadata": {},
   "outputs": [],
   "source": [
    "import numpy as np\n",
    "import re\n",
    "\n",
    "filename = 'input.txt'\n",
    "\n",
    "with open(filename) as f:\n",
    "    data = f.readlines()\n",
    "    \n",
    "data = [i.strip() for i in data]    "
   ]
  },
  {
   "cell_type": "code",
   "execution_count": 2,
   "metadata": {},
   "outputs": [],
   "source": [
    "data_proc = []\n",
    "for i in data:\n",
    "    data_proc.append(re.findall(r\"[\\-0-9]+\", i))"
   ]
  },
  {
   "cell_type": "code",
   "execution_count": 3,
   "metadata": {},
   "outputs": [],
   "source": [
    "positions = []\n",
    "velocities = []\n",
    "for i in data_proc:\n",
    "    positions.append([int(i[0]),int(i[1])])\n",
    "    velocities.append([int(i[2]),int(i[3])])\n",
    "    \n",
    "pos = np.array(positions)\n",
    "vel = np.array(velocities)"
   ]
  },
  {
   "cell_type": "markdown",
   "metadata": {},
   "source": [
    "# Look for minimum range of points in X and Y"
   ]
  },
  {
   "cell_type": "code",
   "execution_count": 4,
   "metadata": {},
   "outputs": [
    {
     "name": "stdout",
     "output_type": "stream",
     "text": [
      "Min range of x is in step:  10105 \n",
      "Min range of y is in step:  10105\n"
     ]
    }
   ],
   "source": [
    "x, y = 0, 0\n",
    "min_diff_x = 1000000\n",
    "min_diff_y = 1000000\n",
    "\n",
    "\n",
    "for i in range(0,20000):\n",
    "    min_x = min(pos[:,0])\n",
    "    min_y = min(pos[:,1])\n",
    "    max_x = max(pos[:,0])\n",
    "    max_y = max(pos[:,1])\n",
    "\n",
    "    diff_x = abs(max_x - min_x)\n",
    "    diff_y = abs(max_y - min_y)\n",
    "    \n",
    "    #print(diff_x,diff_y)\n",
    "\n",
    "    \n",
    "    if diff_x < min_diff_x:\n",
    "        min_diff_x = diff_x\n",
    "        x = i\n",
    "        \n",
    "    if diff_y < min_diff_y:\n",
    "        min_diff_y = diff_y\n",
    "        y = i\n",
    "    \n",
    "    pos[:,0] = pos[:,0] + vel[:,0]\n",
    "    pos[:,1] = pos[:,1] + vel[:,1]\n",
    "    \n",
    "print(\"Min range of x is in step: \", x, \"\\nMin range of y is in step: \", y)"
   ]
  },
  {
   "cell_type": "code",
   "execution_count": 5,
   "metadata": {},
   "outputs": [],
   "source": [
    "pos = np.array(positions)\n",
    "vel = np.array(velocities)\n",
    "\n",
    "#x=10105\n",
    "\n",
    "for i in range(0,x):\n",
    "    min_x = min(pos[:,0])\n",
    "    min_y = min(pos[:,1])\n",
    "    max_x = max(pos[:,0])\n",
    "    max_y = max(pos[:,1])\n",
    "    \n",
    "    pos[:,0] = pos[:,0] + vel[:,0]\n",
    "    pos[:,1] = pos[:,1] + vel[:,1]"
   ]
  },
  {
   "cell_type": "code",
   "execution_count": 6,
   "metadata": {},
   "outputs": [
    {
     "name": "stdout",
     "output_type": "stream",
     "text": [
      "******    **    ******  ******  *****   *       ******   **** \n",
      "     *   *  *   *            *  *    *  *            *  *    *\n",
      "     *  *    *  *            *  *    *  *            *  *     \n",
      "    *   *    *  *           *   *    *  *           *   *     \n",
      "   *    *    *  *****      *    *****   *          *    *     \n",
      "  *     ******  *         *     *  *    *         *     *  ***\n",
      " *      *    *  *        *      *   *   *        *      *    *\n",
      "*       *    *  *       *       *   *   *       *       *    *\n",
      "*       *    *  *       *       *    *  *       *       *   **\n",
      "******  *    *  ******  ******  *    *  ******  ******   *** *\n"
     ]
    }
   ],
   "source": [
    "map = [[' '] * (min_diff_x+1) for j in range(min_diff_y+1)]\n",
    "\n",
    "for i,j in pos:\n",
    "    map[j-min(pos[:,1])][i-min(pos[:,0])] = '*'\n",
    "\n",
    "for m in map:\n",
    "    print(''.join(m))"
   ]
  }
 ],
 "metadata": {
  "kernelspec": {
   "display_name": "Python 3",
   "language": "python",
   "name": "python3"
  },
  "language_info": {
   "codemirror_mode": {
    "name": "ipython",
    "version": 3
   },
   "file_extension": ".py",
   "mimetype": "text/x-python",
   "name": "python",
   "nbconvert_exporter": "python",
   "pygments_lexer": "ipython3",
   "version": "3.6.8"
  }
 },
 "nbformat": 4,
 "nbformat_minor": 2
}
