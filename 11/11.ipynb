{
 "cells": [
  {
   "cell_type": "code",
   "execution_count": 1,
   "metadata": {},
   "outputs": [],
   "source": [
    "puzzle_input = 2694"
   ]
  },
  {
   "cell_type": "code",
   "execution_count": 2,
   "metadata": {},
   "outputs": [],
   "source": [
    "import numpy as np"
   ]
  },
  {
   "cell_type": "code",
   "execution_count": 3,
   "metadata": {},
   "outputs": [],
   "source": [
    "fuel_cells = np.array([np.array([0]*301)]*301)"
   ]
  },
  {
   "cell_type": "code",
   "execution_count": 4,
   "metadata": {},
   "outputs": [],
   "source": [
    "for i in range(1,len(fuel_cells)):\n",
    "    for j in range(1,len(fuel_cells[0])):\n",
    "        rack_id = j + 10\n",
    "        hundreds_digit = int('000'+str((rack_id*i + puzzle_input)*rack_id)[-3])\n",
    "        fuel_cells[i][j] = hundreds_digit - 5"
   ]
  },
  {
   "cell_type": "code",
   "execution_count": 5,
   "metadata": {},
   "outputs": [],
   "source": [
    "def sum_grid(arr, arrX, arrY, dim=3):\n",
    "    sum_grid = 0\n",
    "    for i in range(dim):\n",
    "        for j in range(dim):\n",
    "            sum_grid += arr[arrY+i][arrX+j]\n",
    "    return sum_grid"
   ]
  },
  {
   "cell_type": "markdown",
   "metadata": {},
   "source": [
    "# 1st "
   ]
  },
  {
   "cell_type": "code",
   "execution_count": 6,
   "metadata": {},
   "outputs": [
    {
     "name": "stdout",
     "output_type": "stream",
     "text": [
      "30\n",
      "(243, 38)\n"
     ]
    }
   ],
   "source": [
    "max_power = -1000\n",
    "coordinates = (0,0)\n",
    "dim = 3\n",
    "for i in range(1,len(fuel_cells)-dim+1):\n",
    "    for j in range(1,len(fuel_cells[0])-dim+1):\n",
    "        power = sum_grid(fuel_cells, i, j, dim)\n",
    "        if power > max_power:\n",
    "            max_power = power\n",
    "            coordinates = (i,j)\n",
    "            best_dim = dim\n",
    "print(max_power)\n",
    "print(coordinates)"
   ]
  },
  {
   "cell_type": "markdown",
   "metadata": {},
   "source": [
    "# 2nd"
   ]
  },
  {
   "cell_type": "code",
   "execution_count": null,
   "metadata": {},
   "outputs": [],
   "source": [
    "max_power = -1000\n",
    "coordinates = (0,0)\n",
    "best_dim = 0\n",
    "for dim in range(1,300):\n",
    "    for i in range(1,len(fuel_cells)-dim+1):\n",
    "        for j in range(1,len(fuel_cells[0])-dim+1):\n",
    "            power = sum_grid(fuel_cells, i, j, dim)\n",
    "            if power > max_power:\n",
    "                max_power = power\n",
    "                coordinates = (i,j)\n",
    "                best_dim = dim\n",
    "print(max_power)\n",
    "print(coordinates)\n",
    "print(best_dim)"
   ]
  }
 ],
 "metadata": {
  "kernelspec": {
   "display_name": "Python 3",
   "language": "python",
   "name": "python3"
  },
  "language_info": {
   "codemirror_mode": {
    "name": "ipython",
    "version": 3
   },
   "file_extension": ".py",
   "mimetype": "text/x-python",
   "name": "python",
   "nbconvert_exporter": "python",
   "pygments_lexer": "ipython3",
   "version": "3.6.8"
  }
 },
 "nbformat": 4,
 "nbformat_minor": 2
}
