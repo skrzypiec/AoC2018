{
 "cells": [
  {
   "cell_type": "code",
   "execution_count": 1,
   "metadata": {
    "collapsed": true
   },
   "outputs": [],
   "source": [
    "import re\n",
    "import string\n",
    "\n",
    "filename = 'input.txt'\n",
    "\n",
    "with open(filename) as f:\n",
    "    data = f.read().strip()"
   ]
  },
  {
   "cell_type": "markdown",
   "metadata": {},
   "source": [
    "# 1"
   ]
  },
  {
   "cell_type": "code",
   "execution_count": 2,
   "metadata": {
    "scrolled": false
   },
   "outputs": [],
   "source": [
    "def scan_polymer(text):\n",
    "\n",
    "    ab = text\n",
    "    str_len = len(ab)\n",
    "    anyChange=True\n",
    "\n",
    "    while(anyChange):\n",
    "        anyChange=False\n",
    "        i = 0\n",
    "        while i < str_len-1:\n",
    "            \n",
    "            if(ab[i].lower() == ab[i+1].lower() and ab[i] != ab[i+1]):\n",
    "                ab = ab[:i] + ab[(i+2):]\n",
    "                str_len = str_len-2\n",
    "                anyChange=True\n",
    "            else:\n",
    "                i = i + 1                   \n",
    "    return ab"
   ]
  },
  {
   "cell_type": "code",
   "execution_count": 3,
   "metadata": {
    "collapsed": true
   },
   "outputs": [],
   "source": [
    "result = scan_polymer(data)"
   ]
  },
  {
   "cell_type": "code",
   "execution_count": 4,
   "metadata": {},
   "outputs": [
    {
     "name": "stdout",
     "output_type": "stream",
     "text": [
      "Answer:  10762\n"
     ]
    }
   ],
   "source": [
    "print(\"Answer: \",len(result))"
   ]
  },
  {
   "cell_type": "markdown",
   "metadata": {},
   "source": [
    "# 2"
   ]
  },
  {
   "cell_type": "code",
   "execution_count": 5,
   "metadata": {},
   "outputs": [],
   "source": [
    "letters = string.ascii_letters\n",
    "upper = []\n",
    "lower = []\n",
    "\n",
    "for i in range(int(len(letters)/2)):\n",
    "    lower.append(string.ascii_letters[i])\n",
    "    upper.append(string.ascii_letters[i+26])"
   ]
  },
  {
   "cell_type": "code",
   "execution_count": 6,
   "metadata": {},
   "outputs": [
    {
     "name": "stdout",
     "output_type": "stream",
     "text": [
      "a A :  10338\n",
      "b B :  10364\n",
      "c C :  10298\n",
      "d D :  10404\n",
      "e E :  10280\n",
      "f F :  10350\n",
      "g G :  10336\n",
      "h H :  10294\n",
      "i I :  10318\n",
      "j J :  10324\n",
      "k K :  10350\n",
      "l L :  10354\n",
      "m M :  6946\n",
      "n N :  10336\n",
      "o O :  10344\n",
      "p P :  10308\n",
      "q Q :  10294\n",
      "r R :  10306\n",
      "s S :  10308\n",
      "t T :  10394\n",
      "u U :  10328\n",
      "v V :  10336\n",
      "w W :  10306\n",
      "x X :  10374\n",
      "y Y :  10302\n",
      "z Z :  10296\n",
      "Shortest polymer:  6946\n"
     ]
    }
   ],
   "source": [
    "answer = len(data)\n",
    "for i,j in zip(lower,upper):\n",
    "    sample = data.replace(i,\"\").replace(j,\"\")\n",
    "    result = scan_polymer(sample)\n",
    "    \n",
    "    print(i, j , \": \", len(result))\n",
    "    \n",
    "    if(len(result)<answer):\n",
    "        answer = len(result)\n",
    "    \n",
    "print(\"Shortest polymer: \", answer)"
   ]
  }
 ],
 "metadata": {
  "kernelspec": {
   "display_name": "Python 3",
   "language": "python",
   "name": "python3"
  },
  "language_info": {
   "codemirror_mode": {
    "name": "ipython",
    "version": 3
   },
   "file_extension": ".py",
   "mimetype": "text/x-python",
   "name": "python",
   "nbconvert_exporter": "python",
   "pygments_lexer": "ipython3",
   "version": "3.6.6"
  }
 },
 "nbformat": 4,
 "nbformat_minor": 2
}
