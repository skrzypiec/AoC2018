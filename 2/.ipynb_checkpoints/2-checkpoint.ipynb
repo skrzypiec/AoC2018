{
 "cells": [
  {
   "cell_type": "code",
   "execution_count": 2,
   "metadata": {
    "collapsed": true
   },
   "outputs": [],
   "source": [
    "filename = 'input.txt'\n",
    "\n",
    "with open(filename) as f:\n",
    "    data = f.readlines()\n",
    "    \n",
    "ids = [i.strip() for i in data]"
   ]
  },
  {
   "cell_type": "markdown",
   "metadata": {},
   "source": [
    "# 1"
   ]
  },
  {
   "cell_type": "code",
   "execution_count": 3,
   "metadata": {},
   "outputs": [
    {
     "name": "stdout",
     "output_type": "stream",
     "text": [
      "Checksum:  6723\n"
     ]
    }
   ],
   "source": [
    "check_sum_a = 0\n",
    "check_sum_b = 0\n",
    "\n",
    "for i in ids:\n",
    "    set_id = {i.count(c) for c in set(i)}\n",
    "    if 2 in set_id:\n",
    "        check_sum_a += 1\n",
    "    if 3 in set_id:\n",
    "        check_sum_b += 1\n",
    "        \n",
    "print(\"Checksum: \", check_sum_a*check_sum_b)"
   ]
  },
  {
   "cell_type": "markdown",
   "metadata": {},
   "source": [
    "# 2"
   ]
  },
  {
   "cell_type": "code",
   "execution_count": 4,
   "metadata": {
    "collapsed": true,
    "scrolled": true
   },
   "outputs": [],
   "source": [
    "ids_list = []\n",
    "for i in ids:\n",
    "    ids_list.append(list(i))"
   ]
  },
  {
   "cell_type": "code",
   "execution_count": 5,
   "metadata": {},
   "outputs": [
    {
     "name": "stdout",
     "output_type": "stream",
     "text": [
      "prtkqyluiusocwvaezjmhmfgx\n",
      "prtkqyluiusocwvaezjmhmfgx\n"
     ]
    }
   ],
   "source": [
    "first = ''\n",
    "second = ''\n",
    "for i,f in enumerate(ids_list):\n",
    "    for k,l in enumerate(ids_list[i+1:]):\n",
    "        diff_counter = 0\n",
    "        first = f.copy()\n",
    "        second = l.copy()\n",
    "        for j in range(len(f)):\n",
    "            if f[j] != l[j]:\n",
    "                diff_counter +=1\n",
    "                first.remove(f[j])\n",
    "                second.remove(l[j])             \n",
    "        if(diff_counter==1):\n",
    "            #print(f, '\\n', l)\n",
    "            print(''.join(first))\n",
    "            print(''.join(second))\n",
    "        #for j in range(len(f)):\n",
    "        #print(i,k+i+1) "
   ]
  },
  {
   "cell_type": "code",
   "execution_count": null,
   "metadata": {
    "collapsed": true
   },
   "outputs": [],
   "source": []
  }
 ],
 "metadata": {
  "kernelspec": {
   "display_name": "Python 3",
   "language": "python",
   "name": "python3"
  },
  "language_info": {
   "codemirror_mode": {
    "name": "ipython",
    "version": 3
   },
   "file_extension": ".py",
   "mimetype": "text/x-python",
   "name": "python",
   "nbconvert_exporter": "python",
   "pygments_lexer": "ipython3",
   "version": "3.6.6"
  }
 },
 "nbformat": 4,
 "nbformat_minor": 2
}
