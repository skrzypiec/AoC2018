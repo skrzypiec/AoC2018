{
 "cells": [
  {
   "cell_type": "code",
   "execution_count": 1,
   "metadata": {
    "collapsed": true
   },
   "outputs": [],
   "source": [
    "import numpy as np\n",
    "\n",
    "filename = 'input.txt'\n",
    "\n",
    "with open(filename) as f:\n",
    "    data = f.readlines()\n",
    "        \n",
    "data_cor = [i.strip() for i in data]"
   ]
  },
  {
   "cell_type": "code",
   "execution_count": 2,
   "metadata": {
    "collapsed": true
   },
   "outputs": [],
   "source": [
    "def parse_steps(data):\n",
    "    steps = set()\n",
    "    locks = {}\n",
    "    for line in data:\n",
    "        step = line[36]\n",
    "        lock = line[5]\n",
    "        steps.add(step)\n",
    "        steps.add(lock)\n",
    "        if not step in locks:\n",
    "            locks[step] = set()\n",
    "        locks[step].add(lock)\n",
    "    return sorted(steps), locks\n",
    "\n",
    "def find_next_step(steps, locks):\n",
    "    for step in steps:\n",
    "        if not step in locks.keys():\n",
    "            return step\n",
    "\n",
    "def remove_lock(steps, found_step):\n",
    "    steps_to_remove = set()\n",
    "    for step, locks in steps.items():\n",
    "        if found_step in locks:\n",
    "            locks.remove(found_step)\n",
    "        if len(locks) == 0:\n",
    "            steps_to_remove.add(step)\n",
    "    for step in steps_to_remove:\n",
    "        steps.pop(step)\n",
    "    return steps\n",
    "\n",
    "def ans1(data):\n",
    "    steps, locks = parse_steps(data)\n",
    "    result = ''\n",
    "    while len(steps) > 0:\n",
    "        next_step = find_next_step(steps, locks)\n",
    "        steps.remove(next_step)\n",
    "        locks = remove_lock(locks, next_step)\n",
    "        result += next_step\n",
    "    return result\n",
    "\n",
    "def generate_durations(steps):\n",
    "    durations = { step : ord(step)-4 for step in steps}\n",
    "    return durations\n",
    "\n",
    "\n",
    "def ans2(data):\n",
    "    steps, locks = parse_steps(data)\n",
    "    durations = generate_durations(steps)\n",
    "    time = 0\n",
    "    queue = []\n",
    "    while len(steps) > 0 or len(queue) > 0:\n",
    "        time += 1\n",
    "        found_next_step = True\n",
    "        while len(queue) < 5 and found_next_step:\n",
    "            next_step = find_next_step(steps, locks)\n",
    "            if next_step is None:\n",
    "                found_next_step = False\n",
    "            else:\n",
    "                steps.remove(next_step)\n",
    "                queue.append(next_step)\n",
    "        finished_steps = []\n",
    "        for step in queue:\n",
    "            durations[step] -= 1\n",
    "            if durations[step] == 0:\n",
    "                finished_steps.append(step)\n",
    "        for step in finished_steps:\n",
    "            queue.remove(step)\n",
    "            durations.pop(step)\n",
    "            locks = remove_lock(locks, step)\n",
    "    return time"
   ]
  },
  {
   "cell_type": "code",
   "execution_count": 3,
   "metadata": {},
   "outputs": [
    {
     "name": "stdout",
     "output_type": "stream",
     "text": [
      "Result: HEGMPOAWBFCDITVXYZRKUQNSLJ\n"
     ]
    }
   ],
   "source": [
    "print(\"Result: %s\"%ans1(data_cor))"
   ]
  },
  {
   "cell_type": "code",
   "execution_count": 4,
   "metadata": {},
   "outputs": [
    {
     "name": "stdout",
     "output_type": "stream",
     "text": [
      "Result: 1226\n"
     ]
    }
   ],
   "source": [
    "print(\"Result: %d\"%ans2(data_cor))"
   ]
  }
 ],
 "metadata": {
  "kernelspec": {
   "display_name": "Python 3",
   "language": "python",
   "name": "python3"
  },
  "language_info": {
   "codemirror_mode": {
    "name": "ipython",
    "version": 3
   },
   "file_extension": ".py",
   "mimetype": "text/x-python",
   "name": "python",
   "nbconvert_exporter": "python",
   "pygments_lexer": "ipython3",
   "version": "3.6.6"
  }
 },
 "nbformat": 4,
 "nbformat_minor": 2
}
