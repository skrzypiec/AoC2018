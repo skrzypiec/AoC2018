{
 "cells": [
  {
   "cell_type": "code",
   "execution_count": 7,
   "metadata": {},
   "outputs": [],
   "source": [
    "import numpy as np\n",
    "\n",
    "filename = 'input.txt'\n",
    "\n",
    "with open(filename) as f:\n",
    "    data = f.readlines()"
   ]
  },
  {
   "cell_type": "code",
   "execution_count": 14,
   "metadata": {},
   "outputs": [],
   "source": [
    "class Node(object):\n",
    "    def __init__(self):\n",
    "        self.children = []\n",
    "        self.metadata = []\n",
    "\n",
    "    def add_child(self, node):\n",
    "        self.children.append(node)\n",
    "\n",
    "    def add_metadata(self, data):\n",
    "        self.metadata.append(data)\n",
    "\n",
    "def generate_tree(numbers, idx):\n",
    "    parent = Node()\n",
    "    children = numbers[idx]\n",
    "    metadata = numbers[idx+1]\n",
    "    idx += 2\n",
    "    for _ in range(children):\n",
    "        child, idx = generate_tree(numbers, idx)\n",
    "        parent.add_child(child)\n",
    "    for _ in range(metadata):\n",
    "        parent.add_metadata(numbers[idx])\n",
    "        idx += 1\n",
    "    return parent, idx\n",
    "\n",
    "def print_tree(tree, level):\n",
    "    print(' ' * 2 * level, tree.metadata)\n",
    "    for child in tree.children:\n",
    "        print_tree(child, level+1)\n",
    "\n",
    "def sum_metadata_first(tree):\n",
    "    checksum = 0\n",
    "    checksum += sum(tree.metadata)\n",
    "    for child in tree.children:\n",
    "        checksum += sum_metadata_first(child)\n",
    "    return checksum\n",
    "\n",
    "def sum_metadata_second(tree):\n",
    "    checksum = 0\n",
    "    if len(tree.children) == 0:\n",
    "        checksum += sum(tree.metadata)\n",
    "    else:\n",
    "        for idx in tree.metadata:\n",
    "            if idx-1 < len(tree.children):\n",
    "                checksum += sum_metadata_second(tree.children[idx-1])\n",
    "    return checksum\n",
    "\n",
    "def one(data):\n",
    "    numbers = [int(x) for x in data[0].split()]\n",
    "    tree, _ = generate_tree(numbers, 0)\n",
    "    checksum = sum_metadata_first(tree)\n",
    "    #print(checksum)\n",
    "    return checksum\n",
    "    \n",
    "def two(data):\n",
    "    numbers = [int(x) for x in data[0].split()]\n",
    "    tree, _ = generate_tree(numbers, 0)\n",
    "    checksum = sum_metadata_second(tree)\n",
    "    #print(checksum)\n",
    "    return checksum"
   ]
  },
  {
   "cell_type": "code",
   "execution_count": 15,
   "metadata": {},
   "outputs": [
    {
     "name": "stdout",
     "output_type": "stream",
     "text": [
      "Result: 40746\n"
     ]
    }
   ],
   "source": [
    "print(\"Result: %s\"%one(data))"
   ]
  },
  {
   "cell_type": "code",
   "execution_count": 16,
   "metadata": {},
   "outputs": [
    {
     "name": "stdout",
     "output_type": "stream",
     "text": [
      "Result: 37453\n"
     ]
    }
   ],
   "source": [
    "print(\"Result: %s\"%two(data))"
   ]
  }
 ],
 "metadata": {
  "kernelspec": {
   "display_name": "Python 3",
   "language": "python",
   "name": "python3"
  },
  "language_info": {
   "codemirror_mode": {
    "name": "ipython",
    "version": 3
   },
   "file_extension": ".py",
   "mimetype": "text/x-python",
   "name": "python",
   "nbconvert_exporter": "python",
   "pygments_lexer": "ipython3",
   "version": "3.7.1"
  }
 },
 "nbformat": 4,
 "nbformat_minor": 2
}
