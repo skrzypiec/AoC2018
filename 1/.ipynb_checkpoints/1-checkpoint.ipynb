{
 "cells": [
  {
   "cell_type": "markdown",
   "metadata": {},
   "source": [
    "# 1"
   ]
  },
  {
   "cell_type": "code",
   "execution_count": 1,
   "metadata": {},
   "outputs": [
    {
     "name": "stdout",
     "output_type": "stream",
     "text": [
      "Resulting frequency is: 500\n"
     ]
    }
   ],
   "source": [
    "#read file\n",
    "filename = 'input.txt'\n",
    "\n",
    "with open(filename) as f:\n",
    "    data = f.readlines()\n",
    "\n",
    "    \n",
    "#convert text to numbers\n",
    "data_num = [int(i.replace('\\n','').replace('+','')) for i in data]    \n",
    "\n",
    "#print result\n",
    "print(\"Resulting frequency is:\",sum(data_num))"
   ]
  },
  {
   "cell_type": "markdown",
   "metadata": {},
   "source": [
    "# 2"
   ]
  },
  {
   "cell_type": "code",
   "execution_count": 13,
   "metadata": {},
   "outputs": [
    {
     "name": "stdout",
     "output_type": "stream",
     "text": [
      "140067\n",
      "709\n"
     ]
    }
   ],
   "source": [
    "freq = 0\n",
    "seen = set()\n",
    "i = 0\n",
    "flag = True\n",
    "while flag:     \n",
    "    for f in data_num:\n",
    "        freq += f\n",
    "        if freq in seen:\n",
    "            print(len(seen))\n",
    "            flag = False\n",
    "            print(freq)\n",
    "            break\n",
    "        else:\n",
    "            seen.add(freq)"
   ]
  }
 ],
 "metadata": {
  "kernelspec": {
   "display_name": "Python 3",
   "language": "python",
   "name": "python3"
  },
  "language_info": {
   "codemirror_mode": {
    "name": "ipython",
    "version": 3
   },
   "file_extension": ".py",
   "mimetype": "text/x-python",
   "name": "python",
   "nbconvert_exporter": "python",
   "pygments_lexer": "ipython3",
   "version": "3.6.6"
  }
 },
 "nbformat": 4,
 "nbformat_minor": 2
}
