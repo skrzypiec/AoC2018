{
 "cells": [
  {
   "cell_type": "code",
   "execution_count": 1,
   "metadata": {},
   "outputs": [],
   "source": [
    "import numpy as np\n",
    "\n",
    "filename = 'input.txt'\n",
    "\n",
    "with open(filename) as f:\n",
    "    data = f.readlines()\n",
    "    \n",
    "data_cor = [i.strip() for i in data]    "
   ]
  },
  {
   "cell_type": "markdown",
   "metadata": {},
   "source": [
    "# 1"
   ]
  },
  {
   "cell_type": "code",
   "execution_count": 2,
   "metadata": {},
   "outputs": [],
   "source": [
    "x = []\n",
    "y = []\n",
    "\n",
    "for i in data_cor:\n",
    "    x.append(int(i.split(\",\")[0]))\n",
    "    y.append(int(i.split(\",\")[1]))\n",
    "    \n",
    "    \n",
    "#size of square\n",
    "max_x = max(x)\n",
    "max_y = max(y)"
   ]
  },
  {
   "cell_type": "code",
   "execution_count": 3,
   "metadata": {},
   "outputs": [],
   "source": [
    "field = np.array(max_x*[max_y*[0]])\n",
    "\n",
    "for i,j in enumerate(list(zip(x,y))):\n",
    "    field[j[0]-1][j[1]-1] = i"
   ]
  },
  {
   "cell_type": "code",
   "execution_count": 4,
   "metadata": {},
   "outputs": [],
   "source": [
    "for i in range(max_x):\n",
    "    for j in range(max_y):\n",
    "        min_dist = 10000\n",
    "        index = 1000\n",
    "        for k,l in enumerate(list(zip(x,y))):\n",
    "            dist = abs(i-l[0]) + abs(j-l[1])\n",
    "            if dist < min_dist:\n",
    "                index = k\n",
    "                min_dist = dist\n",
    "        field[i][j] = index"
   ]
  },
  {
   "cell_type": "code",
   "execution_count": 5,
   "metadata": {
    "scrolled": true
   },
   "outputs": [],
   "source": [
    "infinite_indexes = set(np.concatenate((field[0],field[1],field[:,0],field[:,-1])))\n",
    "counts = np.unique(field,  return_counts=True)\n",
    "important_results = set(counts[0])^infinite_indexes"
   ]
  },
  {
   "cell_type": "code",
   "execution_count": 6,
   "metadata": {},
   "outputs": [
    {
     "name": "stdout",
     "output_type": "stream",
     "text": [
      "Max field: 3604\n"
     ]
    }
   ],
   "source": [
    "ans1 = counts[1][list(important_results)].max()\n",
    "\n",
    "print(\"Max field: %d\"%ans1)"
   ]
  },
  {
   "cell_type": "markdown",
   "metadata": {},
   "source": [
    "# 2"
   ]
  },
  {
   "cell_type": "code",
   "execution_count": 7,
   "metadata": {},
   "outputs": [],
   "source": [
    "region = np.array(max_x*[max_y*[0]])\n",
    "\n",
    "for i in range(max_x):\n",
    "    for j in range(max_y):\n",
    "        dist = 0\n",
    "        index = 1000\n",
    "        for k,l in enumerate(list(zip(x,y))):\n",
    "            dist += abs(i-l[0]) + abs(j-l[1])\n",
    "        if(dist<10000):\n",
    "            region[i][j] = 1"
   ]
  },
  {
   "cell_type": "code",
   "execution_count": 8,
   "metadata": {},
   "outputs": [
    {
     "name": "stdout",
     "output_type": "stream",
     "text": [
      "Safe region: 46563\n"
     ]
    }
   ],
   "source": [
    "ans2 = region.sum()\n",
    "\n",
    "print(\"Safe region: %d\"%ans2)"
   ]
  }
 ],
 "metadata": {
  "kernelspec": {
   "display_name": "Python 3",
   "language": "python",
   "name": "python3"
  },
  "language_info": {
   "codemirror_mode": {
    "name": "ipython",
    "version": 3
   },
   "file_extension": ".py",
   "mimetype": "text/x-python",
   "name": "python",
   "nbconvert_exporter": "python",
   "pygments_lexer": "ipython3",
   "version": "3.6.6"
  }
 },
 "nbformat": 4,
 "nbformat_minor": 2
}
